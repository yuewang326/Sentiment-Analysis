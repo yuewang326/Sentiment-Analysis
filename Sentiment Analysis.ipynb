{
 "cells": [
  {
   "cell_type": "markdown",
   "id": "numerous-samoa",
   "metadata": {
    "id": "numerous-samoa"
   },
   "source": [
    "# Text Analytics in Social Media / Wall Street Comments"
   ]
  },
  {
   "cell_type": "markdown",
   "id": "informational-shock",
   "metadata": {
    "id": "informational-shock"
   },
   "source": [
    "##### importing libraries"
   ]
  },
  {
   "cell_type": "code",
   "execution_count": null,
   "id": "tracked-venue",
   "metadata": {
    "id": "tracked-venue"
   },
   "outputs": [],
   "source": [
    "import pandas as pd\n",
    "import nltk\n",
    "from nltk import FreqDist\n",
    "from nltk.corpus import stopwords\n",
    "import matplotlib.pyplot as plt\n",
    "from nltk.util import ngrams\n",
    "from sklearn.cluster import KMeans"
   ]
  },
  {
   "cell_type": "markdown",
   "id": "double-scottish",
   "metadata": {
    "id": "double-scottish"
   },
   "source": [
    "##### importing datasets"
   ]
  },
  {
   "cell_type": "code",
   "execution_count": null,
   "id": "nervous-involvement",
   "metadata": {
    "id": "nervous-involvement"
   },
   "outputs": [],
   "source": [
    "df_ws = pd.read_csv(r'GA - wall st.csv')"
   ]
  },
  {
   "cell_type": "code",
   "execution_count": null,
   "id": "coated-bookmark",
   "metadata": {
    "id": "coated-bookmark",
    "outputId": "fafe5764-a2e7-4707-8db0-f61e0dc49114",
    "scrolled": false
   },
   "outputs": [
    {
     "data": {
      "text/html": [
       "<div>\n",
       "<style scoped>\n",
       "    .dataframe tbody tr th:only-of-type {\n",
       "        vertical-align: middle;\n",
       "    }\n",
       "\n",
       "    .dataframe tbody tr th {\n",
       "        vertical-align: top;\n",
       "    }\n",
       "\n",
       "    .dataframe thead th {\n",
       "        text-align: right;\n",
       "    }\n",
       "</style>\n",
       "<table border=\"1\" class=\"dataframe\">\n",
       "  <thead>\n",
       "    <tr style=\"text-align: right;\">\n",
       "      <th></th>\n",
       "      <th>comment</th>\n",
       "      <th>keyword</th>\n",
       "    </tr>\n",
       "  </thead>\n",
       "  <tbody>\n",
       "    <tr>\n",
       "      <th>0</th>\n",
       "      <td>&lt;blockquote&gt;For example, people with shorter c...</td>\n",
       "      <td>artificial intelligence</td>\n",
       "    </tr>\n",
       "    <tr>\n",
       "      <th>1</th>\n",
       "      <td>This whole article reflects the rot in the WSJ...</td>\n",
       "      <td>artificial intelligence</td>\n",
       "    </tr>\n",
       "    <tr>\n",
       "      <th>2</th>\n",
       "      <td>Maybe the Journal can take the time to explain...</td>\n",
       "      <td>artificial intelligence</td>\n",
       "    </tr>\n",
       "    <tr>\n",
       "      <th>3</th>\n",
       "      <td>(Douglas Levene)</td>\n",
       "      <td>artificial intelligence</td>\n",
       "    </tr>\n",
       "    <tr>\n",
       "      <th>4</th>\n",
       "      <td>The more they have to tweak the data to make t...</td>\n",
       "      <td>artificial intelligence</td>\n",
       "    </tr>\n",
       "    <tr>\n",
       "      <th>...</th>\n",
       "      <td>...</td>\n",
       "      <td>...</td>\n",
       "    </tr>\n",
       "    <tr>\n",
       "      <th>4392</th>\n",
       "      <td>I'll tell you where it is/could be useful is b...</td>\n",
       "      <td>facial recognition</td>\n",
       "    </tr>\n",
       "    <tr>\n",
       "      <th>4393</th>\n",
       "      <td>That's it!  Wouldn't its be ironically humorou...</td>\n",
       "      <td>facial recognition</td>\n",
       "    </tr>\n",
       "    <tr>\n",
       "      <th>4394</th>\n",
       "      <td>Yes Jacob. And to the Progressives doing it, i...</td>\n",
       "      <td>facial recognition</td>\n",
       "    </tr>\n",
       "    <tr>\n",
       "      <th>4395</th>\n",
       "      <td>Thus far we haven't reacted as consumers to th...</td>\n",
       "      <td>facial recognition</td>\n",
       "    </tr>\n",
       "    <tr>\n",
       "      <th>4396</th>\n",
       "      <td>As long as the providers make it \"free\", we wi...</td>\n",
       "      <td>facial recognition</td>\n",
       "    </tr>\n",
       "  </tbody>\n",
       "</table>\n",
       "<p>4397 rows × 2 columns</p>\n",
       "</div>"
      ],
      "text/plain": [
       "                                                comment  \\\n",
       "0     <blockquote>For example, people with shorter c...   \n",
       "1     This whole article reflects the rot in the WSJ...   \n",
       "2     Maybe the Journal can take the time to explain...   \n",
       "3                                      (Douglas Levene)   \n",
       "4     The more they have to tweak the data to make t...   \n",
       "...                                                 ...   \n",
       "4392  I'll tell you where it is/could be useful is b...   \n",
       "4393  That's it!  Wouldn't its be ironically humorou...   \n",
       "4394  Yes Jacob. And to the Progressives doing it, i...   \n",
       "4395  Thus far we haven't reacted as consumers to th...   \n",
       "4396  As long as the providers make it \"free\", we wi...   \n",
       "\n",
       "                      keyword  \n",
       "0     artificial intelligence  \n",
       "1     artificial intelligence  \n",
       "2     artificial intelligence  \n",
       "3     artificial intelligence  \n",
       "4     artificial intelligence  \n",
       "...                       ...  \n",
       "4392       facial recognition  \n",
       "4393       facial recognition  \n",
       "4394       facial recognition  \n",
       "4395       facial recognition  \n",
       "4396       facial recognition  \n",
       "\n",
       "[4397 rows x 2 columns]"
      ]
     },
     "execution_count": 253,
     "metadata": {
      "tags": []
     },
     "output_type": "execute_result"
    }
   ],
   "source": [
    "df_ws"
   ]
  },
  {
   "cell_type": "markdown",
   "id": "suburban-episode",
   "metadata": {
    "id": "suburban-episode"
   },
   "source": [
    "# WSJ Analysis"
   ]
  },
  {
   "cell_type": "markdown",
   "id": "chinese-renewal",
   "metadata": {
    "id": "chinese-renewal"
   },
   "source": [
    "## Frequencies"
   ]
  },
  {
   "cell_type": "markdown",
   "id": "lovely-brown",
   "metadata": {
    "id": "lovely-brown"
   },
   "source": [
    "##### word frequencies"
   ]
  },
  {
   "cell_type": "code",
   "execution_count": null,
   "id": "integral-reconstruction",
   "metadata": {
    "id": "integral-reconstruction",
    "outputId": "a7d58b36-bab9-4bdf-9582-dfc5c3bb15e9"
   },
   "outputs": [
    {
     "data": {
      "image/png": "[encoded data removed]",
      "text/plain": [
       "<Figure size 432x288 with 1 Axes>"
      ]
     },
     "metadata": {
      "needs_background": "light",
      "tags": []
     },
     "output_type": "display_data"
    },
    {
     "data": {
      "text/plain": [
       "<AxesSubplot:xlabel='Samples', ylabel='Counts'>"
      ]
     },
     "execution_count": 254,
     "metadata": {
      "tags": []
     },
     "output_type": "execute_result"
    }
   ],
   "source": [
    "#creating list with content\n",
    "text_list = [i for i in df_ws['comment']]\n",
    "\n",
    "#creating string with content\n",
    "text_string = ''\n",
    "text_string = text_string.join(text_list)\n",
    "\n",
    "#tokenizing words\n",
    "words = nltk.word_tokenize(text_string)\n",
    "\n",
    "#removing capital letters\n",
    "words = [i.lower() for i in words]\n",
    "\n",
    "#removing non-letter tokens\n",
    "words = [i for i in words if i.isalpha()]\n",
    "\n",
    "#downloading stopwords\n",
    "stopwords = stopwords.words('english')\n",
    "\n",
    "#retreiving words that are not stopwords\n",
    "nonstopwords_words = [i for i in words if i not in stopwords]\n",
    "\n",
    "#lemmatization\n",
    "porter = nltk.PorterStemmer()\n",
    "stem = [porter.stem(i) for i in nonstopwords_words]\n",
    "\n",
    "#getting new word frequency\n",
    "freq_nw = FreqDist(stem)\n",
    "\n",
    "#ranking new words\n",
    "sorted_freq_nw = sorted(freq_nw.items(),key = lambda k:k[1], reverse = True)\n",
    "\n",
    "#printing graph\n",
    "freq_nw.plot(30)"
   ]
  },
  {
   "cell_type": "markdown",
   "id": "combined-singles",
   "metadata": {
    "id": "combined-singles"
   },
   "source": [
    "##### adjective frequencies"
   ]
  },
  {
   "cell_type": "code",
   "execution_count": null,
   "id": "amino-tunisia",
   "metadata": {
    "id": "amino-tunisia",
    "outputId": "4a5998cd-909c-43b4-e55f-523bc5daac16"
   },
   "outputs": [
    {
     "data": {
      "image/png": "[encoded data removed]",
      "text/plain": [
       "<Figure size 432x288 with 1 Axes>"
      ]
     },
     "metadata": {
      "needs_background": "light",
      "tags": []
     },
     "output_type": "display_data"
    },
    {
     "data": {
      "text/plain": [
       "<AxesSubplot:xlabel='Samples', ylabel='Counts'>"
      ]
     },
     "execution_count": 255,
     "metadata": {
      "tags": []
     },
     "output_type": "execute_result"
    }
   ],
   "source": [
    "#\n",
    "\n",
    "POS_tags = nltk.pos_tag(stem)\n",
    "\n",
    "#generating nouns forms\n",
    "POS_tag_list = [(word,tag) for (word,tag) in POS_tags if tag.startswith('J')]\n",
    "\n",
    "#getting frequency distribution\n",
    "freq_tags = nltk.FreqDist(POS_tag_list)\n",
    "\n",
    "#ranking new words\n",
    "sorted_freq_tags = sorted(freq_tags.items(),key = lambda k:k[1], reverse = True)\n",
    "\n",
    "#pringing graph\n",
    "freq_tags.plot(30)"
   ]
  },
  {
   "cell_type": "code",
   "execution_count": null,
   "id": "infinite-indianapolis",
   "metadata": {
    "id": "infinite-indianapolis",
    "outputId": "3b72d294-d3d5-415a-f4fd-30437140057d",
    "scrolled": false
   },
   "outputs": [
    {
     "data": {
      "image/png": "[encoded data removed]",
      "text/plain": [
       "<Figure size 432x288 with 1 Axes>"
      ]
     },
     "metadata": {
      "needs_background": "light",
      "tags": []
     },
     "output_type": "display_data"
    },
    {
     "data": {
      "text/plain": [
       "<AxesSubplot:xlabel='Samples', ylabel='Counts'>"
      ]
     },
     "execution_count": 256,
     "metadata": {
      "tags": []
     },
     "output_type": "execute_result"
    }
   ],
   "source": [
    "\n",
    "\n",
    "#generating nouns forms\n",
    "POS_tag_list = [(word,tag) for (word,tag) in POS_tags if tag.startswith('N')]\n",
    "\n",
    "#getting frequency distribution\n",
    "freq_tags = nltk.FreqDist(POS_tag_list)\n",
    "\n",
    "#ranking new words\n",
    "sorted_freq_tags = sorted(freq_tags.items(),key = lambda k:k[1], reverse = True)\n",
    "\n",
    "#pringing graph\n",
    "freq_tags.plot(30)"
   ]
  },
  {
   "cell_type": "markdown",
   "id": "concrete-serial",
   "metadata": {
    "id": "concrete-serial"
   },
   "source": [
    "##### frequencies of each keyword"
   ]
  },
  {
   "cell_type": "markdown",
   "id": "paperback-indonesia",
   "metadata": {
    "id": "paperback-indonesia"
   },
   "source": [
    "separating dataframes"
   ]
  },
  {
   "cell_type": "code",
   "execution_count": null,
   "id": "facial-discussion",
   "metadata": {
    "id": "facial-discussion"
   },
   "outputs": [],
   "source": [
    "ai_df = df_ws[df_ws['keyword'] == 'artificial intelligence']\n",
    "ml_df = df_ws[df_ws['keyword'] == 'machine learning']\n",
    "al_df = df_ws[df_ws['keyword'] == 'algorithms']\n",
    "fr_df = df_ws[df_ws['keyword'] == 'facial recognition']"
   ]
  },
  {
   "cell_type": "markdown",
   "id": "hawaiian-panel",
   "metadata": {
    "id": "hawaiian-panel"
   },
   "source": [
    "getting frequencies"
   ]
  },
  {
   "cell_type": "code",
   "execution_count": null,
   "id": "partial-dominican",
   "metadata": {
    "id": "partial-dominican"
   },
   "outputs": [],
   "source": [
    "def content_words(dataframe):\n",
    "    content_counts = list()\n",
    "        #creating list with content\n",
    "    text_list = [i for i in dataframe['comment']]\n",
    "    text_string = ''\n",
    "        #joining all comments into a string\n",
    "    text_string = text_string.join(text_list)\n",
    "        #tokenizing words\n",
    "    words = nltk.word_tokenize(text_string)\n",
    "        #updating to lower case\n",
    "    words_lower = [i.lower() for i in words]\n",
    "        #retrieving non stopwords\n",
    "    words1 = [i for i in words_lower if i not in stopwords]\n",
    "        #retrieving only lettered-words\n",
    "    words2 = [i for i in words1 if i.isalpha()]\n",
    "        #retrieving words after lemmatization\n",
    "    words3 = [porter.stem(i) for i in words2]\n",
    "        #tagging POS tags\n",
    "    POS_tags = nltk.pos_tag(words3)\n",
    "        #adding tags\n",
    "    POS_tag_list = [(word,tag) for (word,tag) in POS_tags if tag.startswith('J')]\n",
    "        #adding new list to old list\n",
    "    content_counts += POS_tag_list\n",
    "    return content_counts\n",
    "\n",
    "ai_words = content_words(ai_df)\n",
    "ml_words = content_words(ml_df)\n",
    "al_words = content_words(al_df)\n",
    "fr_words = content_words(fr_df)"
   ]
  },
  {
   "cell_type": "markdown",
   "id": "sunrise-appointment",
   "metadata": {
    "id": "sunrise-appointment"
   },
   "source": [
    "ranking results"
   ]
  },
  {
   "cell_type": "code",
   "execution_count": null,
   "id": "corrected-boundary",
   "metadata": {
    "id": "corrected-boundary"
   },
   "outputs": [],
   "source": [
    "def freq_words(dict_contains):\n",
    "    keywords_freq = FreqDist(dict_contains)\n",
    "    keywords_freq = sorted(keywords_freq.items(),key = lambda k:k[1], reverse = True)\n",
    "    keywords_freq = keywords_freq[0:20]\n",
    "    return keywords_freq\n",
    "\n",
    "ai_freq = freq_words(ai_words)\n",
    "ml_freq = freq_words(ml_words)\n",
    "al_freq = freq_words(al_words)\n",
    "fr_freq = freq_words(fr_words)"
   ]
  },
  {
   "cell_type": "code",
   "execution_count": null,
   "id": "accepting-bearing",
   "metadata": {
    "id": "accepting-bearing",
    "outputId": "6aeb8b68-02f9-4857-b408-0a54e16fbe5d"
   },
   "outputs": [
    {
     "data": {
      "text/html": [
       "<div>\n",
       "<style scoped>\n",
       "    .dataframe tbody tr th:only-of-type {\n",
       "        vertical-align: middle;\n",
       "    }\n",
       "\n",
       "    .dataframe tbody tr th {\n",
       "        vertical-align: top;\n",
       "    }\n",
       "\n",
       "    .dataframe thead th {\n",
       "        text-align: right;\n",
       "    }\n",
       "</style>\n",
       "<table border=\"1\" class=\"dataframe\">\n",
       "  <thead>\n",
       "    <tr style=\"text-align: right;\">\n",
       "      <th></th>\n",
       "      <th>AI</th>\n",
       "      <th>ML</th>\n",
       "      <th>algorithms</th>\n",
       "      <th>facial recognition</th>\n",
       "    </tr>\n",
       "  </thead>\n",
       "  <tbody>\n",
       "    <tr>\n",
       "      <th>0</th>\n",
       "      <td>((softwar, JJ), 37)</td>\n",
       "      <td>((human, JJ), 34)</td>\n",
       "      <td>((social, JJ), 151)</td>\n",
       "      <td>((facial, JJ), 264)</td>\n",
       "    </tr>\n",
       "    <tr>\n",
       "      <th>1</th>\n",
       "      <td>((human, JJ), 32)</td>\n",
       "      <td>((new, JJ), 10)</td>\n",
       "      <td>((good, JJ), 89)</td>\n",
       "      <td>((govern, JJ), 124)</td>\n",
       "    </tr>\n",
       "    <tr>\n",
       "      <th>2</th>\n",
       "      <td>((algorithm, JJ), 23)</td>\n",
       "      <td>((short, JJ), 6)</td>\n",
       "      <td>((big, JJ), 65)</td>\n",
       "      <td>((polic, JJ), 78)</td>\n",
       "    </tr>\n",
       "    <tr>\n",
       "      <th>3</th>\n",
       "      <td>((black, JJ), 18)</td>\n",
       "      <td>((learn, JJ), 6)</td>\n",
       "      <td>((amazon, JJ), 65)</td>\n",
       "      <td>((public, JJ), 61)</td>\n",
       "    </tr>\n",
       "    <tr>\n",
       "      <th>4</th>\n",
       "      <td>((new, JJ), 17)</td>\n",
       "      <td>((ai, JJ), 6)</td>\n",
       "      <td>((googl, JJ), 61)</td>\n",
       "      <td>((good, JJ), 60)</td>\n",
       "    </tr>\n",
       "    <tr>\n",
       "      <th>5</th>\n",
       "      <td>((equal, JJ), 16)</td>\n",
       "      <td>((good, JJ), 6)</td>\n",
       "      <td>((free, JJ), 54)</td>\n",
       "      <td>((right, JJ), 46)</td>\n",
       "    </tr>\n",
       "    <tr>\n",
       "      <th>6</th>\n",
       "      <td>((good, JJ), 16)</td>\n",
       "      <td>((physic, JJ), 6)</td>\n",
       "      <td>((much, JJ), 50)</td>\n",
       "      <td>((big, JJ), 45)</td>\n",
       "    </tr>\n",
       "    <tr>\n",
       "      <th>7</th>\n",
       "      <td>((object, JJ), 16)</td>\n",
       "      <td>((moral, JJ), 4)</td>\n",
       "      <td>((algorithm, JJ), 48)</td>\n",
       "      <td>((social, JJ), 37)</td>\n",
       "    </tr>\n",
       "    <tr>\n",
       "      <th>8</th>\n",
       "      <td>((bia, JJ), 15)</td>\n",
       "      <td>((old, JJ), 4)</td>\n",
       "      <td>((best, JJS), 46)</td>\n",
       "      <td>((peopl, JJ), 36)</td>\n",
       "    </tr>\n",
       "    <tr>\n",
       "      <th>9</th>\n",
       "      <td>((ai, JJ), 15)</td>\n",
       "      <td>((direct, JJ), 4)</td>\n",
       "      <td>((bad, JJ), 39)</td>\n",
       "      <td>((wrong, JJ), 33)</td>\n",
       "    </tr>\n",
       "    <tr>\n",
       "      <th>10</th>\n",
       "      <td>((bias, JJ), 15)</td>\n",
       "      <td>((great, JJ), 3)</td>\n",
       "      <td>((real, JJ), 37)</td>\n",
       "      <td>((softwar, JJ), 32)</td>\n",
       "    </tr>\n",
       "    <tr>\n",
       "      <th>11</th>\n",
       "      <td>((wrong, JJ), 14)</td>\n",
       "      <td>((social, JJ), 3)</td>\n",
       "      <td>((great, JJ), 37)</td>\n",
       "      <td>((sure, JJ), 32)</td>\n",
       "    </tr>\n",
       "    <tr>\n",
       "      <th>12</th>\n",
       "      <td>((actual, JJ), 11)</td>\n",
       "      <td>((actual, JJ), 3)</td>\n",
       "      <td>((first, JJ), 37)</td>\n",
       "      <td>((live, JJ), 32)</td>\n",
       "    </tr>\n",
       "    <tr>\n",
       "      <th>13</th>\n",
       "      <td>((whole, JJ), 10)</td>\n",
       "      <td>((young, JJ), 3)</td>\n",
       "      <td>((right, JJ), 37)</td>\n",
       "      <td>((much, JJ), 31)</td>\n",
       "    </tr>\n",
       "    <tr>\n",
       "      <th>14</th>\n",
       "      <td>((high, JJ), 10)</td>\n",
       "      <td>((basic, JJ), 3)</td>\n",
       "      <td>((govern, JJ), 36)</td>\n",
       "      <td>((human, JJ), 27)</td>\n",
       "    </tr>\n",
       "    <tr>\n",
       "      <th>15</th>\n",
       "      <td>((social, JJ), 10)</td>\n",
       "      <td>((artifici, JJ), 3)</td>\n",
       "      <td>((public, JJ), 36)</td>\n",
       "      <td>((legal, JJ), 27)</td>\n",
       "    </tr>\n",
       "    <tr>\n",
       "      <th>16</th>\n",
       "      <td>((alic, JJ), 10)</td>\n",
       "      <td>((object, JJ), 3)</td>\n",
       "      <td>((new, JJ), 36)</td>\n",
       "      <td>((american, JJ), 26)</td>\n",
       "    </tr>\n",
       "    <tr>\n",
       "      <th>17</th>\n",
       "      <td>((facial, JJ), 9)</td>\n",
       "      <td>((common, JJ), 3)</td>\n",
       "      <td>((actual, JJ), 34)</td>\n",
       "      <td>((scan, JJ), 26)</td>\n",
       "    </tr>\n",
       "    <tr>\n",
       "      <th>18</th>\n",
       "      <td>((basic, JJ), 9)</td>\n",
       "      <td>((clinic, JJ), 2)</td>\n",
       "      <td>((wrong, JJ), 30)</td>\n",
       "      <td>((free, JJ), 24)</td>\n",
       "    </tr>\n",
       "    <tr>\n",
       "      <th>19</th>\n",
       "      <td>((sentenc, JJ), 9)</td>\n",
       "      <td>((practic, JJ), 2)</td>\n",
       "      <td>((articl, JJ), 28)</td>\n",
       "      <td>((black, JJ), 24)</td>\n",
       "    </tr>\n",
       "  </tbody>\n",
       "</table>\n",
       "</div>"
      ],
      "text/plain": [
       "                       AI                   ML             algorithms  \\\n",
       "0     ((softwar, JJ), 37)    ((human, JJ), 34)    ((social, JJ), 151)   \n",
       "1       ((human, JJ), 32)      ((new, JJ), 10)       ((good, JJ), 89)   \n",
       "2   ((algorithm, JJ), 23)     ((short, JJ), 6)        ((big, JJ), 65)   \n",
       "3       ((black, JJ), 18)     ((learn, JJ), 6)     ((amazon, JJ), 65)   \n",
       "4         ((new, JJ), 17)        ((ai, JJ), 6)      ((googl, JJ), 61)   \n",
       "5       ((equal, JJ), 16)      ((good, JJ), 6)       ((free, JJ), 54)   \n",
       "6        ((good, JJ), 16)    ((physic, JJ), 6)       ((much, JJ), 50)   \n",
       "7      ((object, JJ), 16)     ((moral, JJ), 4)  ((algorithm, JJ), 48)   \n",
       "8         ((bia, JJ), 15)       ((old, JJ), 4)      ((best, JJS), 46)   \n",
       "9          ((ai, JJ), 15)    ((direct, JJ), 4)        ((bad, JJ), 39)   \n",
       "10       ((bias, JJ), 15)     ((great, JJ), 3)       ((real, JJ), 37)   \n",
       "11      ((wrong, JJ), 14)    ((social, JJ), 3)      ((great, JJ), 37)   \n",
       "12     ((actual, JJ), 11)    ((actual, JJ), 3)      ((first, JJ), 37)   \n",
       "13      ((whole, JJ), 10)     ((young, JJ), 3)      ((right, JJ), 37)   \n",
       "14       ((high, JJ), 10)     ((basic, JJ), 3)     ((govern, JJ), 36)   \n",
       "15     ((social, JJ), 10)  ((artifici, JJ), 3)     ((public, JJ), 36)   \n",
       "16       ((alic, JJ), 10)    ((object, JJ), 3)        ((new, JJ), 36)   \n",
       "17      ((facial, JJ), 9)    ((common, JJ), 3)     ((actual, JJ), 34)   \n",
       "18       ((basic, JJ), 9)    ((clinic, JJ), 2)      ((wrong, JJ), 30)   \n",
       "19     ((sentenc, JJ), 9)   ((practic, JJ), 2)     ((articl, JJ), 28)   \n",
       "\n",
       "      facial recognition  \n",
       "0    ((facial, JJ), 264)  \n",
       "1    ((govern, JJ), 124)  \n",
       "2      ((polic, JJ), 78)  \n",
       "3     ((public, JJ), 61)  \n",
       "4       ((good, JJ), 60)  \n",
       "5      ((right, JJ), 46)  \n",
       "6        ((big, JJ), 45)  \n",
       "7     ((social, JJ), 37)  \n",
       "8      ((peopl, JJ), 36)  \n",
       "9      ((wrong, JJ), 33)  \n",
       "10   ((softwar, JJ), 32)  \n",
       "11      ((sure, JJ), 32)  \n",
       "12      ((live, JJ), 32)  \n",
       "13      ((much, JJ), 31)  \n",
       "14     ((human, JJ), 27)  \n",
       "15     ((legal, JJ), 27)  \n",
       "16  ((american, JJ), 26)  \n",
       "17      ((scan, JJ), 26)  \n",
       "18      ((free, JJ), 24)  \n",
       "19     ((black, JJ), 24)  "
      ]
     },
     "execution_count": 260,
     "metadata": {
      "tags": []
     },
     "output_type": "execute_result"
    }
   ],
   "source": [
    "df_words = pd.DataFrame({'AI':pd.Series(ai_freq),'ML':pd.Series(ml_freq),'algorithms':pd.Series(al_freq),'facial recognition':pd.Series(fr_freq)})\n",
    "\n",
    "df_words"
   ]
  },
  {
   "cell_type": "markdown",
   "id": "persistent-plant",
   "metadata": {
    "id": "persistent-plant"
   },
   "source": [
    "## Sentiment Analysis"
   ]
  },
  {
   "cell_type": "code",
   "execution_count": null,
   "id": "editorial-category",
   "metadata": {
    "id": "editorial-category",
    "outputId": "9844abd7-6a0b-4a7f-a745-7878e830fdab",
    "scrolled": true
   },
   "outputs": [
    {
     "data": {
      "text/plain": [
       "0       <blockquote>for example, people with shorter c...\n",
       "1       this whole article reflects the rot in the wsj...\n",
       "2       maybe the journal can take the time to explain...\n",
       "3                                        (douglas levene)\n",
       "4       the more they have to tweak the data to make t...\n",
       "                              ...                        \n",
       "4392    i'll tell you where it is/could be useful is b...\n",
       "4393    that's it!  wouldn't its be ironically humorou...\n",
       "4394    yes jacob. and to the progressives doing it, i...\n",
       "4395    thus far we haven't reacted as consumers to th...\n",
       "4396    as long as the providers make it \"free\", we wi...\n",
       "Name: comment, Length: 4397, dtype: object"
      ]
     },
     "execution_count": 261,
     "metadata": {
      "tags": []
     },
     "output_type": "execute_result"
    }
   ],
   "source": [
    "data = df_ws.comment.str.lower()\n",
    "\n",
    "data"
   ]
  },
  {
   "cell_type": "markdown",
   "id": "favorite-audio",
   "metadata": {
    "id": "favorite-audio"
   },
   "source": [
    "##### Bing Liu’s Lexicon"
   ]
  },
  {
   "cell_type": "code",
   "execution_count": null,
   "id": "public-northern",
   "metadata": {
    "id": "public-northern",
    "outputId": "c05b40ff-a8f7-417a-bd2f-3a7a8acb0ee1"
   },
   "outputs": [
    {
     "name": "stderr",
     "output_type": "stream",
     "text": [
      "[nltk_data] Downloading package opinion_lexicon to C:\\Users\\Leonardo\n",
      "[nltk_data]     Luchetti\\anaconda3\\nltk_data...\n",
      "[nltk_data]   Package opinion_lexicon is already up-to-date!\n"
     ]
    },
    {
     "data": {
      "text/html": [
       "<div>\n",
       "<style scoped>\n",
       "    .dataframe tbody tr th:only-of-type {\n",
       "        vertical-align: middle;\n",
       "    }\n",
       "\n",
       "    .dataframe tbody tr th {\n",
       "        vertical-align: top;\n",
       "    }\n",
       "\n",
       "    .dataframe thead th {\n",
       "        text-align: right;\n",
       "    }\n",
       "</style>\n",
       "<table border=\"1\" class=\"dataframe\">\n",
       "  <thead>\n",
       "    <tr style=\"text-align: right;\">\n",
       "      <th></th>\n",
       "      <th>comment</th>\n",
       "      <th>poscnt_BL</th>\n",
       "      <th>negcnt_BL</th>\n",
       "      <th>netcnt_BL</th>\n",
       "    </tr>\n",
       "  </thead>\n",
       "  <tbody>\n",
       "    <tr>\n",
       "      <th>0</th>\n",
       "      <td>&lt;blockquote&gt;For example, people with shorter c...</td>\n",
       "      <td>2</td>\n",
       "      <td>1</td>\n",
       "      <td>1</td>\n",
       "    </tr>\n",
       "    <tr>\n",
       "      <th>1</th>\n",
       "      <td>This whole article reflects the rot in the WSJ...</td>\n",
       "      <td>1</td>\n",
       "      <td>2</td>\n",
       "      <td>-1</td>\n",
       "    </tr>\n",
       "    <tr>\n",
       "      <th>2</th>\n",
       "      <td>Maybe the Journal can take the time to explain...</td>\n",
       "      <td>2</td>\n",
       "      <td>3</td>\n",
       "      <td>-1</td>\n",
       "    </tr>\n",
       "    <tr>\n",
       "      <th>3</th>\n",
       "      <td>(Douglas Levene)</td>\n",
       "      <td>0</td>\n",
       "      <td>0</td>\n",
       "      <td>0</td>\n",
       "    </tr>\n",
       "    <tr>\n",
       "      <th>4</th>\n",
       "      <td>The more they have to tweak the data to make t...</td>\n",
       "      <td>4</td>\n",
       "      <td>5</td>\n",
       "      <td>-1</td>\n",
       "    </tr>\n",
       "  </tbody>\n",
       "</table>\n",
       "</div>"
      ],
      "text/plain": [
       "                                             comment  poscnt_BL  negcnt_BL  \\\n",
       "0  <blockquote>For example, people with shorter c...          2          1   \n",
       "1  This whole article reflects the rot in the WSJ...          1          2   \n",
       "2  Maybe the Journal can take the time to explain...          2          3   \n",
       "3                                   (Douglas Levene)          0          0   \n",
       "4  The more they have to tweak the data to make t...          4          5   \n",
       "\n",
       "   netcnt_BL  \n",
       "0          1  \n",
       "1         -1  \n",
       "2         -1  \n",
       "3          0  \n",
       "4         -1  "
      ]
     },
     "execution_count": 262,
     "metadata": {
      "tags": []
     },
     "output_type": "execute_result"
    }
   ],
   "source": [
    "#creating function for dictionary\n",
    "def count_pos_neg(data, positive_dict, negative_dict):\n",
    "    poscnt = []\n",
    "    negcnt = []\n",
    "    netcnt = []\n",
    "\n",
    "    for nrow in range(0,len(data)):\n",
    "        text = data[nrow]\n",
    "        \n",
    "        qa = 0\n",
    "        qb = 0\n",
    "\n",
    "        for word in positive_dict :\n",
    "            if (word in text) :\n",
    "                qa = qa + 1\n",
    "\n",
    "        for word in negative_dict :\n",
    "            if (word in text) :\n",
    "                qb = qb + 1\n",
    "\n",
    "        qc = qa - qb\n",
    "\n",
    "        poscnt.append(qa)\n",
    "        negcnt.append(qb)\n",
    "        netcnt.append(qc)\n",
    "\n",
    "    return (poscnt, negcnt, netcnt)\n",
    "\n",
    "#downloading dictionary\n",
    "import nltk\n",
    "nltk.download(\"opinion_lexicon\")\n",
    "\n",
    "#import Bing Liu's dictionary\n",
    "from nltk.corpus import opinion_lexicon\n",
    "\n",
    "#retrieving positive and negative words from dict\n",
    "pos_list_BL=set(opinion_lexicon.positive())\n",
    "neg_list_BL=set(opinion_lexicon.negative())\n",
    "\n",
    "#applying function to data and retrieving dataset\n",
    "df_ws['poscnt_BL'], df_ws['negcnt_BL'], df_ws['netcnt_BL'] = count_pos_neg(data, pos_list_BL, neg_list_BL)\n",
    "\n",
    "#printing results\n",
    "df_ws[['comment','poscnt_BL','negcnt_BL','netcnt_BL']].head(5)"
   ]
  },
  {
   "cell_type": "markdown",
   "id": "emotional-tracy",
   "metadata": {
    "id": "emotional-tracy"
   },
   "source": [
    "##### LM dictionary"
   ]
  },
  {
   "cell_type": "code",
   "execution_count": null,
   "id": "pleasant-orbit",
   "metadata": {
    "id": "pleasant-orbit",
    "outputId": "9a62f3c9-7db6-47f6-87ab-79a7040d9bd5"
   },
   "outputs": [
    {
     "data": {
      "text/html": [
       "<div>\n",
       "<style scoped>\n",
       "    .dataframe tbody tr th:only-of-type {\n",
       "        vertical-align: middle;\n",
       "    }\n",
       "\n",
       "    .dataframe tbody tr th {\n",
       "        vertical-align: top;\n",
       "    }\n",
       "\n",
       "    .dataframe thead th {\n",
       "        text-align: right;\n",
       "    }\n",
       "</style>\n",
       "<table border=\"1\" class=\"dataframe\">\n",
       "  <thead>\n",
       "    <tr style=\"text-align: right;\">\n",
       "      <th></th>\n",
       "      <th>comment</th>\n",
       "      <th>poscnt_LM</th>\n",
       "      <th>negcnt_LM</th>\n",
       "      <th>netcnt_LM</th>\n",
       "    </tr>\n",
       "  </thead>\n",
       "  <tbody>\n",
       "    <tr>\n",
       "      <th>0</th>\n",
       "      <td>&lt;blockquote&gt;For example, people with shorter c...</td>\n",
       "      <td>0</td>\n",
       "      <td>2</td>\n",
       "      <td>-2</td>\n",
       "    </tr>\n",
       "    <tr>\n",
       "      <th>1</th>\n",
       "      <td>This whole article reflects the rot in the WSJ...</td>\n",
       "      <td>0</td>\n",
       "      <td>2</td>\n",
       "      <td>-2</td>\n",
       "    </tr>\n",
       "    <tr>\n",
       "      <th>2</th>\n",
       "      <td>Maybe the Journal can take the time to explain...</td>\n",
       "      <td>1</td>\n",
       "      <td>1</td>\n",
       "      <td>0</td>\n",
       "    </tr>\n",
       "    <tr>\n",
       "      <th>3</th>\n",
       "      <td>(Douglas Levene)</td>\n",
       "      <td>0</td>\n",
       "      <td>0</td>\n",
       "      <td>0</td>\n",
       "    </tr>\n",
       "    <tr>\n",
       "      <th>4</th>\n",
       "      <td>The more they have to tweak the data to make t...</td>\n",
       "      <td>1</td>\n",
       "      <td>1</td>\n",
       "      <td>0</td>\n",
       "    </tr>\n",
       "  </tbody>\n",
       "</table>\n",
       "</div>"
      ],
      "text/plain": [
       "                                             comment  poscnt_LM  negcnt_LM  \\\n",
       "0  <blockquote>For example, people with shorter c...          0          2   \n",
       "1  This whole article reflects the rot in the WSJ...          0          2   \n",
       "2  Maybe the Journal can take the time to explain...          1          1   \n",
       "3                                   (Douglas Levene)          0          0   \n",
       "4  The more they have to tweak the data to make t...          1          1   \n",
       "\n",
       "   netcnt_LM  \n",
       "0         -2  \n",
       "1         -2  \n",
       "2          0  \n",
       "3          0  \n",
       "4          0  "
      ]
     },
     "execution_count": 263,
     "metadata": {
      "tags": []
     },
     "output_type": "execute_result"
    }
   ],
   "source": [
    "#creating dictionary\n",
    "def read_local_dictionary(file):\n",
    "    # create dictionary list\n",
    "    words_dict = []\n",
    "    with open(file, \"r\") as f: \n",
    "        for line in f:\n",
    "            t = line.strip().lower()\n",
    "            words_dict.append(t)\n",
    "    return words_dict\n",
    "\n",
    "#creating variables with dictionaries\n",
    "pos_list_LM = read_local_dictionary('positive-words-LM.txt')\n",
    "neg_list_LM = read_local_dictionary('negative-words-LM.txt')\n",
    "\n",
    "#applying function to reviews and retrieving results\n",
    "df_ws['poscnt_LM'], df_ws['negcnt_LM'], df_ws['netcnt_LM'] = count_pos_neg(data, pos_list_LM, neg_list_LM)\n",
    "\n",
    "#printing results\n",
    "df_ws[['comment','poscnt_LM','negcnt_LM','netcnt_LM']].head(5)"
   ]
  },
  {
   "cell_type": "markdown",
   "id": "improving-making",
   "metadata": {
    "id": "improving-making"
   },
   "source": [
    "##### TextBlob"
   ]
  },
  {
   "cell_type": "code",
   "execution_count": null,
   "id": "decreased-corporation",
   "metadata": {
    "id": "decreased-corporation",
    "outputId": "08afbaab-d060-4c1c-fee8-e1c7d45863d1"
   },
   "outputs": [
    {
     "data": {
      "text/html": [
       "<div>\n",
       "<style scoped>\n",
       "    .dataframe tbody tr th:only-of-type {\n",
       "        vertical-align: middle;\n",
       "    }\n",
       "\n",
       "    .dataframe tbody tr th {\n",
       "        vertical-align: top;\n",
       "    }\n",
       "\n",
       "    .dataframe thead th {\n",
       "        text-align: right;\n",
       "    }\n",
       "</style>\n",
       "<table border=\"1\" class=\"dataframe\">\n",
       "  <thead>\n",
       "    <tr style=\"text-align: right;\">\n",
       "      <th></th>\n",
       "      <th>comment</th>\n",
       "      <th>score_TextBlob</th>\n",
       "    </tr>\n",
       "  </thead>\n",
       "  <tbody>\n",
       "    <tr>\n",
       "      <th>0</th>\n",
       "      <td>&lt;blockquote&gt;For example, people with shorter c...</td>\n",
       "      <td>0.250000</td>\n",
       "    </tr>\n",
       "    <tr>\n",
       "      <th>1</th>\n",
       "      <td>This whole article reflects the rot in the WSJ...</td>\n",
       "      <td>0.200000</td>\n",
       "    </tr>\n",
       "    <tr>\n",
       "      <th>2</th>\n",
       "      <td>Maybe the Journal can take the time to explain...</td>\n",
       "      <td>0.219048</td>\n",
       "    </tr>\n",
       "    <tr>\n",
       "      <th>3</th>\n",
       "      <td>(Douglas Levene)</td>\n",
       "      <td>0.000000</td>\n",
       "    </tr>\n",
       "    <tr>\n",
       "      <th>4</th>\n",
       "      <td>The more they have to tweak the data to make t...</td>\n",
       "      <td>0.195556</td>\n",
       "    </tr>\n",
       "    <tr>\n",
       "      <th>...</th>\n",
       "      <td>...</td>\n",
       "      <td>...</td>\n",
       "    </tr>\n",
       "    <tr>\n",
       "      <th>4392</th>\n",
       "      <td>I'll tell you where it is/could be useful is b...</td>\n",
       "      <td>-0.150000</td>\n",
       "    </tr>\n",
       "    <tr>\n",
       "      <th>4393</th>\n",
       "      <td>That's it!  Wouldn't its be ironically humorou...</td>\n",
       "      <td>0.075000</td>\n",
       "    </tr>\n",
       "    <tr>\n",
       "      <th>4394</th>\n",
       "      <td>Yes Jacob. And to the Progressives doing it, i...</td>\n",
       "      <td>0.000000</td>\n",
       "    </tr>\n",
       "    <tr>\n",
       "      <th>4395</th>\n",
       "      <td>Thus far we haven't reacted as consumers to th...</td>\n",
       "      <td>0.248052</td>\n",
       "    </tr>\n",
       "    <tr>\n",
       "      <th>4396</th>\n",
       "      <td>As long as the providers make it \"free\", we wi...</td>\n",
       "      <td>0.116667</td>\n",
       "    </tr>\n",
       "  </tbody>\n",
       "</table>\n",
       "<p>4397 rows × 2 columns</p>\n",
       "</div>"
      ],
      "text/plain": [
       "                                                comment  score_TextBlob\n",
       "0     <blockquote>For example, people with shorter c...        0.250000\n",
       "1     This whole article reflects the rot in the WSJ...        0.200000\n",
       "2     Maybe the Journal can take the time to explain...        0.219048\n",
       "3                                      (Douglas Levene)        0.000000\n",
       "4     The more they have to tweak the data to make t...        0.195556\n",
       "...                                                 ...             ...\n",
       "4392  I'll tell you where it is/could be useful is b...       -0.150000\n",
       "4393  That's it!  Wouldn't its be ironically humorou...        0.075000\n",
       "4394  Yes Jacob. And to the Progressives doing it, i...        0.000000\n",
       "4395  Thus far we haven't reacted as consumers to th...        0.248052\n",
       "4396  As long as the providers make it \"free\", we wi...        0.116667\n",
       "\n",
       "[4397 rows x 2 columns]"
      ]
     },
     "execution_count": 264,
     "metadata": {
      "tags": []
     },
     "output_type": "execute_result"
    }
   ],
   "source": [
    "#importing library\n",
    "from textblob import TextBlob\n",
    "\n",
    "#applying textblob to reviews column\n",
    "df_ws[\"score_TextBlob\"] = df_ws[\"comment\"].map(lambda x:TextBlob(x).sentiment.polarity)\n",
    "\n",
    "#printing results\n",
    "df_ws[[\"comment\",\"score_TextBlob\"]]"
   ]
  },
  {
   "cell_type": "code",
   "execution_count": null,
   "id": "tested-wrist",
   "metadata": {
    "id": "tested-wrist",
    "outputId": "689f103a-0b19-468c-e49a-6b233f79adb2"
   },
   "outputs": [
    {
     "data": {
      "text/html": [
       "<div>\n",
       "<style scoped>\n",
       "    .dataframe tbody tr th:only-of-type {\n",
       "        vertical-align: middle;\n",
       "    }\n",
       "\n",
       "    .dataframe tbody tr th {\n",
       "        vertical-align: top;\n",
       "    }\n",
       "\n",
       "    .dataframe thead th {\n",
       "        text-align: right;\n",
       "    }\n",
       "</style>\n",
       "<table border=\"1\" class=\"dataframe\">\n",
       "  <thead>\n",
       "    <tr style=\"text-align: right;\">\n",
       "      <th></th>\n",
       "      <th>comment</th>\n",
       "      <th>negscore_Vader</th>\n",
       "      <th>neuscore_Vader</th>\n",
       "      <th>posscore_Vader</th>\n",
       "      <th>compound_Vader</th>\n",
       "    </tr>\n",
       "  </thead>\n",
       "  <tbody>\n",
       "    <tr>\n",
       "      <th>0</th>\n",
       "      <td>&lt;blockquote&gt;For example, people with shorter c...</td>\n",
       "      <td>0.000</td>\n",
       "      <td>0.802</td>\n",
       "      <td>0.198</td>\n",
       "      <td>0.6369</td>\n",
       "    </tr>\n",
       "    <tr>\n",
       "      <th>1</th>\n",
       "      <td>This whole article reflects the rot in the WSJ...</td>\n",
       "      <td>0.000</td>\n",
       "      <td>0.939</td>\n",
       "      <td>0.061</td>\n",
       "      <td>0.3818</td>\n",
       "    </tr>\n",
       "    <tr>\n",
       "      <th>2</th>\n",
       "      <td>Maybe the Journal can take the time to explain...</td>\n",
       "      <td>0.082</td>\n",
       "      <td>0.918</td>\n",
       "      <td>0.000</td>\n",
       "      <td>-0.4082</td>\n",
       "    </tr>\n",
       "    <tr>\n",
       "      <th>3</th>\n",
       "      <td>(Douglas Levene)</td>\n",
       "      <td>0.000</td>\n",
       "      <td>1.000</td>\n",
       "      <td>0.000</td>\n",
       "      <td>0.0000</td>\n",
       "    </tr>\n",
       "    <tr>\n",
       "      <th>4</th>\n",
       "      <td>The more they have to tweak the data to make t...</td>\n",
       "      <td>0.000</td>\n",
       "      <td>0.898</td>\n",
       "      <td>0.102</td>\n",
       "      <td>0.5118</td>\n",
       "    </tr>\n",
       "  </tbody>\n",
       "</table>\n",
       "</div>"
      ],
      "text/plain": [
       "                                             comment  negscore_Vader  \\\n",
       "0  <blockquote>For example, people with shorter c...           0.000   \n",
       "1  This whole article reflects the rot in the WSJ...           0.000   \n",
       "2  Maybe the Journal can take the time to explain...           0.082   \n",
       "3                                   (Douglas Levene)           0.000   \n",
       "4  The more they have to tweak the data to make t...           0.000   \n",
       "\n",
       "   neuscore_Vader  posscore_Vader  compound_Vader  \n",
       "0           0.802           0.198          0.6369  \n",
       "1           0.939           0.061          0.3818  \n",
       "2           0.918           0.000         -0.4082  \n",
       "3           1.000           0.000          0.0000  \n",
       "4           0.898           0.102          0.5118  "
      ]
     },
     "execution_count": 265,
     "metadata": {
      "tags": []
     },
     "output_type": "execute_result"
    }
   ],
   "source": [
    "#importing library\n",
    "from vaderSentiment.vaderSentiment import SentimentIntensityAnalyzer\n",
    "\n",
    "#creating variable for function\n",
    "analyzer = SentimentIntensityAnalyzer()\n",
    "\n",
    "#scoring df reviews\n",
    "scores = [analyzer.polarity_scores(sentence) for sentence in data]\n",
    "\n",
    "#separating results by column\n",
    "neg_s = [i[\"neg\"] for i in scores]\n",
    "neu_s = [i[\"neu\"] for i in scores]\n",
    "pos_s = [i[\"pos\"] for i in scores]\n",
    "compound_s = [i[\"compound\"] for i in scores]\n",
    "\n",
    "#imputing results in data frame\n",
    "df_ws['negscore_Vader'], df_ws['neuscore_Vader'], df_ws['posscore_Vader'], df_ws['compound_Vader'] = neg_s, neu_s, pos_s, compound_s\n",
    "\n",
    "#printing results\n",
    "df_ws[['comment','negscore_Vader','neuscore_Vader','posscore_Vader','compound_Vader']].head(5)"
   ]
  },
  {
   "cell_type": "markdown",
   "id": "missing-neighbor",
   "metadata": {
    "id": "missing-neighbor"
   },
   "source": [
    "#### compound df"
   ]
  },
  {
   "cell_type": "code",
   "execution_count": null,
   "id": "bulgarian-lunch",
   "metadata": {
    "id": "bulgarian-lunch",
    "outputId": "96d92d7e-3b99-41a1-9f95-efde54e08c5e",
    "scrolled": true
   },
   "outputs": [
    {
     "data": {
      "text/html": [
       "<div>\n",
       "<style scoped>\n",
       "    .dataframe tbody tr th:only-of-type {\n",
       "        vertical-align: middle;\n",
       "    }\n",
       "\n",
       "    .dataframe tbody tr th {\n",
       "        vertical-align: top;\n",
       "    }\n",
       "\n",
       "    .dataframe thead th {\n",
       "        text-align: right;\n",
       "    }\n",
       "</style>\n",
       "<table border=\"1\" class=\"dataframe\">\n",
       "  <thead>\n",
       "    <tr style=\"text-align: right;\">\n",
       "      <th></th>\n",
       "      <th>comment</th>\n",
       "      <th>netcnt_BL</th>\n",
       "      <th>netcnt_LM</th>\n",
       "      <th>score_TextBlob</th>\n",
       "      <th>compound_Vader</th>\n",
       "    </tr>\n",
       "  </thead>\n",
       "  <tbody>\n",
       "    <tr>\n",
       "      <th>0</th>\n",
       "      <td>&lt;blockquote&gt;For example, people with shorter c...</td>\n",
       "      <td>1</td>\n",
       "      <td>-2</td>\n",
       "      <td>0.250000</td>\n",
       "      <td>0.6369</td>\n",
       "    </tr>\n",
       "    <tr>\n",
       "      <th>1</th>\n",
       "      <td>This whole article reflects the rot in the WSJ...</td>\n",
       "      <td>-1</td>\n",
       "      <td>-2</td>\n",
       "      <td>0.200000</td>\n",
       "      <td>0.3818</td>\n",
       "    </tr>\n",
       "    <tr>\n",
       "      <th>2</th>\n",
       "      <td>Maybe the Journal can take the time to explain...</td>\n",
       "      <td>-1</td>\n",
       "      <td>0</td>\n",
       "      <td>0.219048</td>\n",
       "      <td>-0.4082</td>\n",
       "    </tr>\n",
       "    <tr>\n",
       "      <th>3</th>\n",
       "      <td>(Douglas Levene)</td>\n",
       "      <td>0</td>\n",
       "      <td>0</td>\n",
       "      <td>0.000000</td>\n",
       "      <td>0.0000</td>\n",
       "    </tr>\n",
       "    <tr>\n",
       "      <th>4</th>\n",
       "      <td>The more they have to tweak the data to make t...</td>\n",
       "      <td>-1</td>\n",
       "      <td>0</td>\n",
       "      <td>0.195556</td>\n",
       "      <td>0.5118</td>\n",
       "    </tr>\n",
       "    <tr>\n",
       "      <th>...</th>\n",
       "      <td>...</td>\n",
       "      <td>...</td>\n",
       "      <td>...</td>\n",
       "      <td>...</td>\n",
       "      <td>...</td>\n",
       "    </tr>\n",
       "    <tr>\n",
       "      <th>4392</th>\n",
       "      <td>I'll tell you where it is/could be useful is b...</td>\n",
       "      <td>-1</td>\n",
       "      <td>-1</td>\n",
       "      <td>-0.150000</td>\n",
       "      <td>0.2023</td>\n",
       "    </tr>\n",
       "    <tr>\n",
       "      <th>4393</th>\n",
       "      <td>That's it!  Wouldn't its be ironically humorou...</td>\n",
       "      <td>-2</td>\n",
       "      <td>0</td>\n",
       "      <td>0.075000</td>\n",
       "      <td>-0.6251</td>\n",
       "    </tr>\n",
       "    <tr>\n",
       "      <th>4394</th>\n",
       "      <td>Yes Jacob. And to the Progressives doing it, i...</td>\n",
       "      <td>2</td>\n",
       "      <td>1</td>\n",
       "      <td>0.000000</td>\n",
       "      <td>0.5080</td>\n",
       "    </tr>\n",
       "    <tr>\n",
       "      <th>4395</th>\n",
       "      <td>Thus far we haven't reacted as consumers to th...</td>\n",
       "      <td>-1</td>\n",
       "      <td>0</td>\n",
       "      <td>0.248052</td>\n",
       "      <td>0.8458</td>\n",
       "    </tr>\n",
       "    <tr>\n",
       "      <th>4396</th>\n",
       "      <td>As long as the providers make it \"free\", we wi...</td>\n",
       "      <td>2</td>\n",
       "      <td>-3</td>\n",
       "      <td>0.116667</td>\n",
       "      <td>0.1027</td>\n",
       "    </tr>\n",
       "  </tbody>\n",
       "</table>\n",
       "<p>4397 rows × 5 columns</p>\n",
       "</div>"
      ],
      "text/plain": [
       "                                                comment  netcnt_BL  netcnt_LM  \\\n",
       "0     <blockquote>For example, people with shorter c...          1         -2   \n",
       "1     This whole article reflects the rot in the WSJ...         -1         -2   \n",
       "2     Maybe the Journal can take the time to explain...         -1          0   \n",
       "3                                      (Douglas Levene)          0          0   \n",
       "4     The more they have to tweak the data to make t...         -1          0   \n",
       "...                                                 ...        ...        ...   \n",
       "4392  I'll tell you where it is/could be useful is b...         -1         -1   \n",
       "4393  That's it!  Wouldn't its be ironically humorou...         -2          0   \n",
       "4394  Yes Jacob. And to the Progressives doing it, i...          2          1   \n",
       "4395  Thus far we haven't reacted as consumers to th...         -1          0   \n",
       "4396  As long as the providers make it \"free\", we wi...          2         -3   \n",
       "\n",
       "      score_TextBlob  compound_Vader  \n",
       "0           0.250000          0.6369  \n",
       "1           0.200000          0.3818  \n",
       "2           0.219048         -0.4082  \n",
       "3           0.000000          0.0000  \n",
       "4           0.195556          0.5118  \n",
       "...              ...             ...  \n",
       "4392       -0.150000          0.2023  \n",
       "4393        0.075000         -0.6251  \n",
       "4394        0.000000          0.5080  \n",
       "4395        0.248052          0.8458  \n",
       "4396        0.116667          0.1027  \n",
       "\n",
       "[4397 rows x 5 columns]"
      ]
     },
     "execution_count": 266,
     "metadata": {
      "tags": []
     },
     "output_type": "execute_result"
    }
   ],
   "source": [
    "df_analysis = df_ws[['comment','netcnt_BL','netcnt_LM','score_TextBlob','compound_Vader']]\n",
    "\n",
    "df_analysis"
   ]
  },
  {
   "cell_type": "markdown",
   "id": "harmful-cattle",
   "metadata": {
    "id": "harmful-cattle"
   },
   "source": [
    "#### sentiment for each keyword"
   ]
  },
  {
   "cell_type": "code",
   "execution_count": null,
   "id": "bridal-minister",
   "metadata": {
    "id": "bridal-minister",
    "outputId": "8548a2cb-7e00-40b4-d177-c25cd4f315bb",
    "scrolled": true
   },
   "outputs": [
    {
     "data": {
      "text/plain": [
       "netcnt_BL        -1.032067\n",
       "netcnt_LM        -0.835115\n",
       "score_TextBlob    0.072223\n",
       "compound_Vader    0.066355\n",
       "dtype: float64"
      ]
     },
     "execution_count": 267,
     "metadata": {
      "tags": []
     },
     "output_type": "execute_result"
    }
   ],
   "source": [
    "df_analysis.mean()"
   ]
  },
  {
   "cell_type": "markdown",
   "id": "adapted-dependence",
   "metadata": {
    "id": "adapted-dependence"
   },
   "source": [
    "# checkpoint"
   ]
  },
  {
   "cell_type": "code",
   "execution_count": null,
   "id": "passive-inspection",
   "metadata": {
    "id": "passive-inspection",
    "outputId": "a95367d1-72d9-4958-eb91-c295753ee117",
    "scrolled": false
   },
   "outputs": [
    {
     "data": {
      "text/plain": [
       "[Text(0, 0, 'Artificial Intelligence'),\n",
       " Text(1, 0, 'Machine Learning'),\n",
       " Text(2, 0, 'Algorithms'),\n",
       " Text(3, 0, 'Facial Recognition')]"
      ]
     },
     "execution_count": 268,
     "metadata": {
      "tags": []
     },
     "output_type": "execute_result"
    },
    {
     "data": {
      "image/png": "[encoded data removed]",
      "text/plain": [
       "<Figure size 432x288 with 1 Axes>"
      ]
     },
     "metadata": {
      "needs_background": "light",
      "tags": []
     },
     "output_type": "display_data"
    }
   ],
   "source": [
    "#separating sentiment df by keyword\n",
    "ai_df_sentiment = df_ws[df_ws['keyword'] == 'artificial intelligence']\n",
    "ml_df_sentiment = df_ws[df_ws['keyword'] == 'machine learning']\n",
    "al_df_sentiment = df_ws[df_ws['keyword'] == 'algorithms']\n",
    "fr_df_sentiment = df_ws[df_ws['keyword'] == 'facial recognition']\n",
    "\n",
    "#selecting columns\n",
    "ai_df_sentiment = ai_df_sentiment[['comment','netcnt_BL','netcnt_LM','score_TextBlob','compound_Vader']]\n",
    "ml_df_sentiment = ml_df_sentiment[['comment','netcnt_BL','netcnt_LM','score_TextBlob','compound_Vader']]\n",
    "al_df_sentiment = al_df_sentiment[['comment','netcnt_BL','netcnt_LM','score_TextBlob','compound_Vader']]\n",
    "fr_df_sentiment = fr_df_sentiment[['comment','netcnt_BL','netcnt_LM','score_TextBlob','compound_Vader']]\n",
    "\n",
    "keyword_sentiment = {'ai_df_sentiment':[i for i in ai_df_sentiment.mean()],'ml_df_sentiment':[i for i in ml_df_sentiment.mean()],'al_df_sentiment':[i for i in al_df_sentiment.mean()],'fr_df_sentiment':[i for i in fr_df_sentiment.mean()]}\n",
    "\n",
    "keyword_sentiment_df = pd.DataFrame(keyword_sentiment).T\n",
    "\n",
    "# plot grouped bar chart\n",
    "df_plot = keyword_sentiment_df.plot(kind=\"bar\",legend=None)\n",
    "df_plot.set_xticklabels(['Artificial Intelligence','Machine Learning','Algorithms','Facial Recognition'])"
   ]
  },
  {
   "cell_type": "markdown",
   "id": "molecular-advisory",
   "metadata": {
    "id": "molecular-advisory"
   },
   "source": [
    "#### sentiment for google and amazon"
   ]
  },
  {
   "cell_type": "code",
   "execution_count": null,
   "id": "animal-minority",
   "metadata": {
    "id": "animal-minority"
   },
   "outputs": [],
   "source": [
    "#creating function to retrieve text with a specific keyword\n",
    "def comments_with(keyword):\n",
    "    \n",
    "    #creating list for words\n",
    "    text_list = list()\n",
    "    \n",
    "    #creating list with content\n",
    "    for i in range(0,len(df_ws)):\n",
    "        if keyword in df_ws['comment'][i]:\n",
    "            text_list.append(df_ws['comment'][i])\n",
    "\n",
    "    data = [i.lower() for i in text_list]\n",
    "    \n",
    "    text_string = ''\n",
    "    text_string = text_string.join(data)\n",
    "    \n",
    "    return(text_string)\n",
    "\n",
    "#applying function to google and amazon\n",
    "amazon_com = comments_with('Amazon')\n",
    "google_com = comments_with('Google')"
   ]
  },
  {
   "cell_type": "code",
   "execution_count": null,
   "id": "clinical-matrix",
   "metadata": {
    "id": "clinical-matrix",
    "outputId": "00e63c44-b2c0-4a82-c98f-f3fab87faca0"
   },
   "outputs": [
    {
     "name": "stdout",
     "output_type": "stream",
     "text": [
      "{'TextBlob': Sentiment(polarity=0.10565338878689662, subjectivity=0.466520157271466), 'VADER': [{'neg': 0.081, 'neu': 0.757, 'pos': 0.162, 'compound': 1.0}]}\n",
      "{'TextBlob': Sentiment(polarity=0.10417302680735521, subjectivity=0.4662106550166254), 'VADER': [{'neg': 0.083, 'neu': 0.801, 'pos': 0.116, 'compound': 0.9999}]}\n"
     ]
    }
   ],
   "source": [
    "#applying textblob to reviews column\n",
    "def sentimenting(var):\n",
    "    blob = TextBlob(var).sentiment\n",
    "    vad = [analyzer.polarity_scores(var)]\n",
    "    \n",
    "    return({'TextBlob':blob,'VADER':vad})\n",
    "\n",
    "amazon_sentiment = sentimenting(amazon_com)\n",
    "google_sentiment = sentimenting(google_com)\n",
    "\n",
    "print(amazon_sentiment)\n",
    "print(google_sentiment)"
   ]
  },
  {
   "cell_type": "markdown",
   "id": "female-shelf",
   "metadata": {
    "id": "female-shelf"
   },
   "source": [
    "## n-grams"
   ]
  },
  {
   "cell_type": "code",
   "execution_count": null,
   "id": "understanding-assets",
   "metadata": {
    "id": "understanding-assets"
   },
   "outputs": [],
   "source": [
    "def retrieve_ngrams(data,number,quant):\n",
    "    #tokenizing words\n",
    "    words = nltk.word_tokenize(data)\n",
    "\n",
    "    #removing capital letters\n",
    "    words = [i.lower() for i in words]\n",
    "\n",
    "    #removing non-letter tokens\n",
    "    words = [i for i in words if i.isalpha()]\n",
    "    \n",
    "    #downloading stopwords\n",
    "    from nltk.corpus import stopwords\n",
    "    stopwords = stopwords.words('english')\n",
    "\n",
    "    #retreiving words that are not stopwords\n",
    "    nonstopwords_words = [i for i in words if i not in stopwords]\n",
    "\n",
    "    #lemmatization\n",
    "    porter = nltk.PorterStemmer()\n",
    "    stem = [porter.stem(i) for i in nonstopwords_words]\n",
    "\n",
    "    # and get a list of all the bi-grams\n",
    "    grams = ngrams(stem, number)\n",
    "    \n",
    "    #get the frequency of each bigram in text\n",
    "    ranked_grams = nltk.FreqDist(grams)\n",
    "\n",
    "    #ten most popular ngrams\n",
    "    n_freq = ranked_grams.most_common(quant)\n",
    "    \n",
    "    #returning list\n",
    "    return(n_freq)"
   ]
  },
  {
   "cell_type": "markdown",
   "id": "applied-reynolds",
   "metadata": {
    "id": "applied-reynolds"
   },
   "source": [
    "#### general n-grams"
   ]
  },
  {
   "cell_type": "code",
   "execution_count": null,
   "id": "regional-offset",
   "metadata": {
    "id": "regional-offset",
    "outputId": "d2e90604-c50a-4cdf-f945-49b3ea82bef4",
    "scrolled": true
   },
   "outputs": [
    {
     "data": {
      "text/html": [
       "<div>\n",
       "<style scoped>\n",
       "    .dataframe tbody tr th:only-of-type {\n",
       "        vertical-align: middle;\n",
       "    }\n",
       "\n",
       "    .dataframe tbody tr th {\n",
       "        vertical-align: top;\n",
       "    }\n",
       "\n",
       "    .dataframe thead th {\n",
       "        text-align: right;\n",
       "    }\n",
       "</style>\n",
       "<table border=\"1\" class=\"dataframe\">\n",
       "  <thead>\n",
       "    <tr style=\"text-align: right;\">\n",
       "      <th></th>\n",
       "      <th>Two</th>\n",
       "      <th>Three</th>\n",
       "    </tr>\n",
       "  </thead>\n",
       "  <tbody>\n",
       "    <tr>\n",
       "      <th>0</th>\n",
       "      <td>((facial, recognit), 250)</td>\n",
       "      <td>((use, facial, recognit), 41)</td>\n",
       "    </tr>\n",
       "    <tr>\n",
       "      <th>1</th>\n",
       "      <td>((social, media), 135)</td>\n",
       "      <td>((facial, recognit, technolog), 24)</td>\n",
       "    </tr>\n",
       "    <tr>\n",
       "      <th>2</th>\n",
       "      <td>((search, engin), 67)</td>\n",
       "      <td>((facial, recognit, softwar), 21)</td>\n",
       "    </tr>\n",
       "    <tr>\n",
       "      <th>3</th>\n",
       "      <td>((search, result), 63)</td>\n",
       "      <td>((facial, recognit, use), 14)</td>\n",
       "    </tr>\n",
       "    <tr>\n",
       "      <th>4</th>\n",
       "      <td>((law, enforc), 56)</td>\n",
       "      <td>((wall, street, journal), 13)</td>\n",
       "    </tr>\n",
       "    <tr>\n",
       "      <th>5</th>\n",
       "      <td>((use, facial), 44)</td>\n",
       "      <td>((googl, search, result), 10)</td>\n",
       "    </tr>\n",
       "    <tr>\n",
       "      <th>6</th>\n",
       "      <td>((googl, search), 38)</td>\n",
       "      <td>((social, media, platform), 8)</td>\n",
       "    </tr>\n",
       "    <tr>\n",
       "      <th>7</th>\n",
       "      <td>((year, ago), 37)</td>\n",
       "      <td>((trust, news, sourc), 8)</td>\n",
       "    </tr>\n",
       "    <tr>\n",
       "      <th>8</th>\n",
       "      <td>((big, tech), 33)</td>\n",
       "      <td>((facial, recognit, system), 8)</td>\n",
       "    </tr>\n",
       "    <tr>\n",
       "      <th>9</th>\n",
       "      <td>((use, technolog), 29)</td>\n",
       "      <td>((licens, plate, reader), 7)</td>\n",
       "    </tr>\n",
       "  </tbody>\n",
       "</table>\n",
       "</div>"
      ],
      "text/plain": [
       "                         Two                                Three\n",
       "0  ((facial, recognit), 250)        ((use, facial, recognit), 41)\n",
       "1     ((social, media), 135)  ((facial, recognit, technolog), 24)\n",
       "2      ((search, engin), 67)    ((facial, recognit, softwar), 21)\n",
       "3     ((search, result), 63)        ((facial, recognit, use), 14)\n",
       "4        ((law, enforc), 56)        ((wall, street, journal), 13)\n",
       "5        ((use, facial), 44)        ((googl, search, result), 10)\n",
       "6      ((googl, search), 38)       ((social, media, platform), 8)\n",
       "7          ((year, ago), 37)            ((trust, news, sourc), 8)\n",
       "8          ((big, tech), 33)      ((facial, recognit, system), 8)\n",
       "9     ((use, technolog), 29)         ((licens, plate, reader), 7)"
      ]
     },
     "execution_count": 272,
     "metadata": {
      "tags": []
     },
     "output_type": "execute_result"
    }
   ],
   "source": [
    "#generating on two ngrams \n",
    "two = comments_with('')\n",
    "two = retrieve_ngrams(two,2,10)\n",
    "\n",
    "#generating on three ngrams \n",
    "three = comments_with('')\n",
    "three = retrieve_ngrams(three,3,10)\n",
    "\n",
    "df_ng = pd.DataFrame({'Two':pd.Series(two),'Three':pd.Series(three)})\n",
    "\n",
    "df_ng"
   ]
  },
  {
   "cell_type": "markdown",
   "id": "broadband-baker",
   "metadata": {
    "id": "broadband-baker"
   },
   "source": [
    "#### special n grams"
   ]
  },
  {
   "cell_type": "code",
   "execution_count": null,
   "id": "sharp-helen",
   "metadata": {
    "id": "sharp-helen"
   },
   "outputs": [],
   "source": [
    "def special_ngrams(dt,number,quant,key):\n",
    "    #tokenizing words\n",
    "    words = nltk.word_tokenize(dt)\n",
    "\n",
    "    #removing capital letters\n",
    "    words = [i.lower() for i in words]\n",
    "\n",
    "    #removing non-letter tokens\n",
    "    words = [i for i in words if i.isalpha()]\n",
    "    \n",
    "    #downloading stopwords\n",
    "    from nltk.corpus import stopwords\n",
    "    stopwords = stopwords.words('english')\n",
    "\n",
    "    #retreiving words that are not stopwords\n",
    "    nonstopwords_words = [i for i in words if i not in stopwords]\n",
    "\n",
    "    #lemmatization\n",
    "    porter = nltk.PorterStemmer()\n",
    "    stem = [porter.stem(i) for i in nonstopwords_words]\n",
    "\n",
    "    # and get a list of all the bi-grams\n",
    "    grams = ngrams(stem, number)\n",
    "    \n",
    "    #only retrieving keywords\n",
    "    grams = [i for i in grams if key in i]\n",
    "    \n",
    "    #get the frequency of each bigram in text\n",
    "    ranked_grams = nltk.FreqDist(grams)\n",
    "\n",
    "    #ten most popular ngrams\n",
    "    n_freq = ranked_grams.most_common(quant)\n",
    "    \n",
    "    #returning list\n",
    "    return(n_freq)"
   ]
  },
  {
   "cell_type": "markdown",
   "id": "preceding-arthur",
   "metadata": {
    "id": "preceding-arthur"
   },
   "source": [
    "#### specific adjectives (2-n-grams)"
   ]
  },
  {
   "cell_type": "code",
   "execution_count": null,
   "id": "modular-contract",
   "metadata": {
    "id": "modular-contract",
    "outputId": "c5f3a711-1732-4082-bb25-8ad609bf641d"
   },
   "outputs": [
    {
     "data": {
      "text/html": [
       "<div>\n",
       "<style scoped>\n",
       "    .dataframe tbody tr th:only-of-type {\n",
       "        vertical-align: middle;\n",
       "    }\n",
       "\n",
       "    .dataframe tbody tr th {\n",
       "        vertical-align: top;\n",
       "    }\n",
       "\n",
       "    .dataframe thead th {\n",
       "        text-align: right;\n",
       "    }\n",
       "</style>\n",
       "<table border=\"1\" class=\"dataframe\">\n",
       "  <thead>\n",
       "    <tr style=\"text-align: right;\">\n",
       "      <th></th>\n",
       "      <th>good</th>\n",
       "      <th>wrong</th>\n",
       "      <th>moral</th>\n",
       "      <th>great</th>\n",
       "      <th>social</th>\n",
       "      <th>free</th>\n",
       "      <th>best</th>\n",
       "      <th>bad</th>\n",
       "      <th>right</th>\n",
       "    </tr>\n",
       "  </thead>\n",
       "  <tbody>\n",
       "    <tr>\n",
       "      <th>0</th>\n",
       "      <td>((good, reason), 9)</td>\n",
       "      <td>((go, wrong), 6)</td>\n",
       "      <td>((alreadi, moral), 3)</td>\n",
       "      <td>((great, countri), 5)</td>\n",
       "      <td>((social, media), 135)</td>\n",
       "      <td>((free, speech), 11)</td>\n",
       "      <td>((best, interest), 5)</td>\n",
       "      <td>((bad, thing), 13)</td>\n",
       "      <td>((right, privaci), 9)</td>\n",
       "    </tr>\n",
       "    <tr>\n",
       "      <th>1</th>\n",
       "      <td>((good, luck), 7)</td>\n",
       "      <td>((right, wrong), 5)</td>\n",
       "      <td>((moral, sens), 2)</td>\n",
       "      <td>((said, great), 2)</td>\n",
       "      <td>((social, justic), 10)</td>\n",
       "      <td>((free, market), 6)</td>\n",
       "      <td>((return, best), 3)</td>\n",
       "      <td>((bad, peopl), 6)</td>\n",
       "      <td>((privaci, right), 8)</td>\n",
       "    </tr>\n",
       "    <tr>\n",
       "      <th>2</th>\n",
       "      <td>((good, articl), 5)</td>\n",
       "      <td>((noth, wrong), 4)</td>\n",
       "      <td>((call, moral), 1)</td>\n",
       "      <td>((great, potenti), 2)</td>\n",
       "      <td>((use, social), 7)</td>\n",
       "      <td>((time, free), 3)</td>\n",
       "      <td>((best, search), 3)</td>\n",
       "      <td>((peopl, bad), 6)</td>\n",
       "      <td>((right, peopl), 7)</td>\n",
       "    </tr>\n",
       "    <tr>\n",
       "      <th>3</th>\n",
       "      <td>((good, thing), 5)</td>\n",
       "      <td>((someth, wrong), 3)</td>\n",
       "      <td>((moral, social), 1)</td>\n",
       "      <td>((googl, great), 2)</td>\n",
       "      <td>((social, credit), 7)</td>\n",
       "      <td>((make, free), 3)</td>\n",
       "      <td>((best, price), 3)</td>\n",
       "      <td>((good, bad), 4)</td>\n",
       "      <td>((right, wing), 6)</td>\n",
       "    </tr>\n",
       "    <tr>\n",
       "      <th>4</th>\n",
       "      <td>((good, bad), 4)</td>\n",
       "      <td>((anyth, wrong), 3)</td>\n",
       "      <td>((think, moral), 1)</td>\n",
       "      <td>((great, articl), 2)</td>\n",
       "      <td>((social, platform), 4)</td>\n",
       "      <td>((feel, free), 3)</td>\n",
       "      <td>((best, custom), 3)</td>\n",
       "      <td>((bad, actor), 3)</td>\n",
       "      <td>((constitut, right), 5)</td>\n",
       "    </tr>\n",
       "  </tbody>\n",
       "</table>\n",
       "</div>"
      ],
      "text/plain": [
       "                  good                 wrong                  moral  \\\n",
       "0  ((good, reason), 9)      ((go, wrong), 6)  ((alreadi, moral), 3)   \n",
       "1    ((good, luck), 7)   ((right, wrong), 5)     ((moral, sens), 2)   \n",
       "2  ((good, articl), 5)    ((noth, wrong), 4)     ((call, moral), 1)   \n",
       "3   ((good, thing), 5)  ((someth, wrong), 3)   ((moral, social), 1)   \n",
       "4     ((good, bad), 4)   ((anyth, wrong), 3)    ((think, moral), 1)   \n",
       "\n",
       "                   great                   social                  free  \\\n",
       "0  ((great, countri), 5)   ((social, media), 135)  ((free, speech), 11)   \n",
       "1     ((said, great), 2)   ((social, justic), 10)   ((free, market), 6)   \n",
       "2  ((great, potenti), 2)       ((use, social), 7)     ((time, free), 3)   \n",
       "3    ((googl, great), 2)    ((social, credit), 7)     ((make, free), 3)   \n",
       "4   ((great, articl), 2)  ((social, platform), 4)     ((feel, free), 3)   \n",
       "\n",
       "                    best                 bad                    right  \n",
       "0  ((best, interest), 5)  ((bad, thing), 13)    ((right, privaci), 9)  \n",
       "1    ((return, best), 3)   ((bad, peopl), 6)    ((privaci, right), 8)  \n",
       "2    ((best, search), 3)   ((peopl, bad), 6)      ((right, peopl), 7)  \n",
       "3     ((best, price), 3)    ((good, bad), 4)       ((right, wing), 6)  \n",
       "4    ((best, custom), 3)   ((bad, actor), 3)  ((constitut, right), 5)  "
      ]
     },
     "execution_count": 273,
     "metadata": {
      "tags": []
     },
     "output_type": "execute_result"
    }
   ],
   "source": [
    "#getting data\n",
    "data = comments_with('')\n",
    "\n",
    "#list of words to generate\n",
    "keys_for_ng = ['good','wrong','moral','great','social','free','best','bad','right']\n",
    "\n",
    "#creating df\n",
    "df_adj2 = pd.DataFrame()\n",
    "\n",
    "#generating on two ngrams \n",
    "for i in keys_for_ng:\n",
    "    all_keys = special_ngrams(data,2,5,i)\n",
    "    df_adj2[i] = all_keys\n",
    "    \n",
    "df_adj2"
   ]
  },
  {
   "cell_type": "markdown",
   "id": "satellite-republican",
   "metadata": {
    "id": "satellite-republican"
   },
   "source": [
    "#### specific adjectives (3-n-grams)"
   ]
  },
  {
   "cell_type": "code",
   "execution_count": null,
   "id": "unnecessary-pierre",
   "metadata": {
    "id": "unnecessary-pierre",
    "outputId": "6d07fbe4-76ad-4806-efec-7851af9de9e5"
   },
   "outputs": [
    {
     "data": {
      "text/html": [
       "<div>\n",
       "<style scoped>\n",
       "    .dataframe tbody tr th:only-of-type {\n",
       "        vertical-align: middle;\n",
       "    }\n",
       "\n",
       "    .dataframe tbody tr th {\n",
       "        vertical-align: top;\n",
       "    }\n",
       "\n",
       "    .dataframe thead th {\n",
       "        text-align: right;\n",
       "    }\n",
       "</style>\n",
       "<table border=\"1\" class=\"dataframe\">\n",
       "  <thead>\n",
       "    <tr style=\"text-align: right;\">\n",
       "      <th></th>\n",
       "      <th>good</th>\n",
       "      <th>wrong</th>\n",
       "      <th>moral</th>\n",
       "      <th>great</th>\n",
       "      <th>social</th>\n",
       "      <th>free</th>\n",
       "      <th>best</th>\n",
       "      <th>bad</th>\n",
       "      <th>right</th>\n",
       "    </tr>\n",
       "  </thead>\n",
       "  <tbody>\n",
       "    <tr>\n",
       "      <th>0</th>\n",
       "      <td>((bound, good, legal), 3)</td>\n",
       "      <td>((possibl, go, wrong), 3)</td>\n",
       "      <td>((babi, alreadi, moral), 2)</td>\n",
       "      <td>((chang, trajectori, great), 2)</td>\n",
       "      <td>((social, media, platform), 8)</td>\n",
       "      <td>((live, googl, free), 2)</td>\n",
       "      <td>((best, print, news), 2)</td>\n",
       "      <td>((peopl, bad, thing), 5)</td>\n",
       "      <td>((right, peopl, secur), 5)</td>\n",
       "    </tr>\n",
       "    <tr>\n",
       "      <th>1</th>\n",
       "      <td>((good, legal, protect), 3)</td>\n",
       "      <td>((prove, other, wrong), 2)</td>\n",
       "      <td>((alreadi, moral, sens), 2)</td>\n",
       "      <td>((trajectori, great, countri), 2)</td>\n",
       "      <td>((use, social, media), 6)</td>\n",
       "      <td>((data, bia, free), 1)</td>\n",
       "      <td>((return, best, search), 2)</td>\n",
       "      <td>((bad, peopl, bad), 4)</td>\n",
       "      <td>((right, due, process), 3)</td>\n",
       "    </tr>\n",
       "    <tr>\n",
       "      <th>2</th>\n",
       "      <td>((make, feel, good), 2)</td>\n",
       "      <td>((other, wrong, fact), 2)</td>\n",
       "      <td>((without, call, moral), 1)</td>\n",
       "      <td>((great, countri, without), 2)</td>\n",
       "      <td>((social, media, account), 6)</td>\n",
       "      <td>((bia, free, nabe), 1)</td>\n",
       "      <td>((best, search, result), 2)</td>\n",
       "      <td>((bad, thing, white), 4)</td>\n",
       "      <td>((order, dissemin, right), 2)</td>\n",
       "    </tr>\n",
       "    <tr>\n",
       "      <th>3</th>\n",
       "      <td>((good, bad, ugli), 2)</td>\n",
       "      <td>((wrong, fact, reason), 2)</td>\n",
       "      <td>((call, moral, social), 1)</td>\n",
       "      <td>((articl, goe, great), 2)</td>\n",
       "      <td>((social, media, compani), 6)</td>\n",
       "      <td>((free, nabe, x), 1)</td>\n",
       "      <td>((compani, principl, best), 2)</td>\n",
       "      <td>((bad, thing, internet), 3)</td>\n",
       "      <td>((dissemin, right, wrong), 2)</td>\n",
       "    </tr>\n",
       "    <tr>\n",
       "      <th>4</th>\n",
       "      <td>((sound, like, good), 2)</td>\n",
       "      <td>((dissemin, right, wrong), 2)</td>\n",
       "      <td>((moral, social, limit), 1)</td>\n",
       "      <td>((far, great, opportun), 2)</td>\n",
       "      <td>((social, media, site), 5)</td>\n",
       "      <td>((word, time, free), 1)</td>\n",
       "      <td>((principl, best, custom), 2)</td>\n",
       "      <td>((say, bad, thing), 2)</td>\n",
       "      <td>((right, wrong, default), 2)</td>\n",
       "    </tr>\n",
       "  </tbody>\n",
       "</table>\n",
       "</div>"
      ],
      "text/plain": [
       "                          good                          wrong  \\\n",
       "0    ((bound, good, legal), 3)      ((possibl, go, wrong), 3)   \n",
       "1  ((good, legal, protect), 3)     ((prove, other, wrong), 2)   \n",
       "2      ((make, feel, good), 2)      ((other, wrong, fact), 2)   \n",
       "3       ((good, bad, ugli), 2)     ((wrong, fact, reason), 2)   \n",
       "4     ((sound, like, good), 2)  ((dissemin, right, wrong), 2)   \n",
       "\n",
       "                         moral                              great  \\\n",
       "0  ((babi, alreadi, moral), 2)    ((chang, trajectori, great), 2)   \n",
       "1  ((alreadi, moral, sens), 2)  ((trajectori, great, countri), 2)   \n",
       "2  ((without, call, moral), 1)     ((great, countri, without), 2)   \n",
       "3   ((call, moral, social), 1)          ((articl, goe, great), 2)   \n",
       "4  ((moral, social, limit), 1)        ((far, great, opportun), 2)   \n",
       "\n",
       "                           social                      free  \\\n",
       "0  ((social, media, platform), 8)  ((live, googl, free), 2)   \n",
       "1       ((use, social, media), 6)    ((data, bia, free), 1)   \n",
       "2   ((social, media, account), 6)    ((bia, free, nabe), 1)   \n",
       "3   ((social, media, compani), 6)      ((free, nabe, x), 1)   \n",
       "4      ((social, media, site), 5)   ((word, time, free), 1)   \n",
       "\n",
       "                             best                          bad  \\\n",
       "0        ((best, print, news), 2)     ((peopl, bad, thing), 5)   \n",
       "1     ((return, best, search), 2)       ((bad, peopl, bad), 4)   \n",
       "2     ((best, search, result), 2)     ((bad, thing, white), 4)   \n",
       "3  ((compani, principl, best), 2)  ((bad, thing, internet), 3)   \n",
       "4   ((principl, best, custom), 2)       ((say, bad, thing), 2)   \n",
       "\n",
       "                           right  \n",
       "0     ((right, peopl, secur), 5)  \n",
       "1     ((right, due, process), 3)  \n",
       "2  ((order, dissemin, right), 2)  \n",
       "3  ((dissemin, right, wrong), 2)  \n",
       "4   ((right, wrong, default), 2)  "
      ]
     },
     "execution_count": 274,
     "metadata": {
      "tags": []
     },
     "output_type": "execute_result"
    }
   ],
   "source": [
    "#getting data\n",
    "data = comments_with('')\n",
    "\n",
    "#list of words to generate\n",
    "keys_for_ng = ['good','wrong','moral','great','social','free','best','bad','right']\n",
    "\n",
    "#creating df\n",
    "df_adj3 = pd.DataFrame()\n",
    "\n",
    "#generating on two ngrams \n",
    "for i in keys_for_ng:\n",
    "    all_keys = special_ngrams(data,3,5,i)\n",
    "    df_adj3[i] = all_keys\n",
    "    \n",
    "df_adj3"
   ]
  },
  {
   "cell_type": "markdown",
   "id": "individual-authentication",
   "metadata": {
    "id": "individual-authentication"
   },
   "source": [
    "#### specific nouns"
   ]
  },
  {
   "cell_type": "code",
   "execution_count": null,
   "id": "attempted-lawrence",
   "metadata": {
    "id": "attempted-lawrence",
    "outputId": "1bd7b1fc-36ff-404b-cc81-d2e4a690b076",
    "scrolled": true
   },
   "outputs": [
    {
     "data": {
      "text/html": [
       "<div>\n",
       "<style scoped>\n",
       "    .dataframe tbody tr th:only-of-type {\n",
       "        vertical-align: middle;\n",
       "    }\n",
       "\n",
       "    .dataframe tbody tr th {\n",
       "        vertical-align: top;\n",
       "    }\n",
       "\n",
       "    .dataframe thead th {\n",
       "        text-align: right;\n",
       "    }\n",
       "</style>\n",
       "<table border=\"1\" class=\"dataframe\">\n",
       "  <thead>\n",
       "    <tr style=\"text-align: right;\">\n",
       "      <th></th>\n",
       "      <th>amazon</th>\n",
       "      <th>googl</th>\n",
       "    </tr>\n",
       "  </thead>\n",
       "  <tbody>\n",
       "    <tr>\n",
       "      <th>0</th>\n",
       "      <td>((amazon, search), 12)</td>\n",
       "      <td>((googl, search), 38)</td>\n",
       "    </tr>\n",
       "    <tr>\n",
       "      <th>1</th>\n",
       "      <td>((use, amazon), 12)</td>\n",
       "      <td>((use, googl), 25)</td>\n",
       "    </tr>\n",
       "    <tr>\n",
       "      <th>2</th>\n",
       "      <td>((like, amazon), 9)</td>\n",
       "      <td>((googl, use), 13)</td>\n",
       "    </tr>\n",
       "    <tr>\n",
       "      <th>3</th>\n",
       "      <td>((amazon, choic), 9)</td>\n",
       "      <td>((like, googl), 12)</td>\n",
       "    </tr>\n",
       "    <tr>\n",
       "      <th>4</th>\n",
       "      <td>((amazon, make), 8)</td>\n",
       "      <td>((googl, facebook), 8)</td>\n",
       "    </tr>\n",
       "  </tbody>\n",
       "</table>\n",
       "</div>"
      ],
      "text/plain": [
       "                   amazon                   googl\n",
       "0  ((amazon, search), 12)   ((googl, search), 38)\n",
       "1     ((use, amazon), 12)      ((use, googl), 25)\n",
       "2     ((like, amazon), 9)      ((googl, use), 13)\n",
       "3    ((amazon, choic), 9)     ((like, googl), 12)\n",
       "4     ((amazon, make), 8)  ((googl, facebook), 8)"
      ]
     },
     "execution_count": 275,
     "metadata": {
      "tags": []
     },
     "output_type": "execute_result"
    }
   ],
   "source": [
    "#getting data\n",
    "data = comments_with('')\n",
    "\n",
    "#list of words to generate\n",
    "keys_for_ng = ['amazon','googl']\n",
    "\n",
    "#creating df\n",
    "df_adj2 = pd.DataFrame()\n",
    "\n",
    "#generating on two ngrams \n",
    "for i in keys_for_ng:\n",
    "    all_keys = special_ngrams(data,2,5,i)\n",
    "    df_adj2[i] = all_keys\n",
    "    \n",
    "df_adj2"
   ]
  },
  {
   "cell_type": "markdown",
   "id": "homeless-flood",
   "metadata": {
    "id": "homeless-flood"
   },
   "source": [
    "## clustering"
   ]
  },
  {
   "cell_type": "code",
   "execution_count": null,
   "id": "apparent-centre",
   "metadata": {
    "id": "apparent-centre",
    "outputId": "6d864c6d-d730-4723-de61-b10ed8750ee0",
    "scrolled": true
   },
   "outputs": [
    {
     "name": "stderr",
     "output_type": "stream",
     "text": [
      "C:\\Users\\Leonardo Luchetti\\anaconda3\\lib\\site-packages\\pandas\\core\\frame.py:3188: SettingWithCopyWarning: \n",
      "A value is trying to be set on a copy of a slice from a DataFrame.\n",
      "Try using .loc[row_indexer,col_indexer] = value instead\n",
      "\n",
      "See the caveats in the documentation: https://pandas.pydata.org/pandas-docs/stable/user_guide/indexing.html#returning-a-view-versus-a-copy\n",
      "  self[k1] = value[k2]\n"
     ]
    }
   ],
   "source": [
    "#normalizing data\n",
    "\n",
    "#retrieving df with relevant info\n",
    "df_clust = df_ws[['poscnt_BL','negcnt_BL','poscnt_LM','negcnt_LM']]\n",
    "\n",
    "#selecting variables\n",
    "nvars = ['poscnt_BL','negcnt_BL','poscnt_LM','negcnt_LM']\n",
    "\n",
    "#standardizing values\n",
    "df_clust[nvars] = (df_clust[nvars] - df_clust[nvars].mean())/df_clust[nvars].std()\n",
    "\n",
    "#creating array with positive and negative words\n",
    "arr = df_clust.to_numpy()"
   ]
  },
  {
   "cell_type": "code",
   "execution_count": null,
   "id": "surface-jurisdiction",
   "metadata": {
    "id": "surface-jurisdiction",
    "outputId": "ab97f6d6-cf83-49b5-fa5c-be316e0a20bd"
   },
   "outputs": [
    {
     "data": {
      "image/png": "[encoded data removed]",
      "text/plain": [
       "<Figure size 432x288 with 1 Axes>"
      ]
     },
     "metadata": {
      "needs_background": "light",
      "tags": []
     },
     "output_type": "display_data"
    }
   ],
   "source": [
    "ks = range(1,9)\n",
    "inertias = []\n",
    "\n",
    "for k in ks:\n",
    "    # Create a KMeans instance with k clusters: model\n",
    "    model = KMeans(n_clusters=k)\n",
    "    \n",
    "    # Fit model to samples\n",
    "    model.fit(arr)\n",
    "    \n",
    "    # Append the inertia to the list of inertias\n",
    "    inertias.append(model.inertia_)\n",
    "    \n",
    "# Plot ks vs inertias\n",
    "plt.plot(ks, inertias, '-o')\n",
    "plt.xlabel('number of clusters, k')\n",
    "plt.ylabel('inertia')\n",
    "plt.xticks(ks)\n",
    "plt.show()"
   ]
  },
  {
   "cell_type": "code",
   "execution_count": null,
   "id": "focused-anime",
   "metadata": {
    "id": "focused-anime",
    "outputId": "892a2623-21f3-4a1f-9af6-f7853558873a",
    "scrolled": true
   },
   "outputs": [
    {
     "data": {
      "image/png": "[encoded data removed]",
      "text/plain": [
       "<Figure size 432x288 with 1 Axes>"
      ]
     },
     "metadata": {
      "needs_background": "light",
      "tags": []
     },
     "output_type": "display_data"
    },
    {
     "data": {
      "image/png": "[encoded data removed]",
      "text/plain": [
       "<Figure size 432x288 with 1 Axes>"
      ]
     },
     "metadata": {
      "needs_background": "light",
      "tags": []
     },
     "output_type": "display_data"
    }
   ],
   "source": [
    "#creating number of clusters\n",
    "model = KMeans(n_clusters=2)\n",
    "\n",
    "#fitting model\n",
    "model.fit(arr)\n",
    "\n",
    "#predicting labels\n",
    "labels = model.predict(arr)\n",
    "\n",
    "#plotting positive words\n",
    "#selecting array to graph\n",
    "xs  = arr[:,1]\n",
    "ys = arr[:,3]\n",
    "\n",
    "plt.scatter(xs,ys,c=labels,alpha=0.5)\n",
    "\n",
    "#assigning centers\n",
    "centers = model.cluster_centers_\n",
    "\n",
    "center_x = centers[:,1]\n",
    "center_y = centers[:,3]\n",
    "\n",
    "plt.scatter(center_x,center_y,marker='D')\n",
    "plt.xlabel(\"BL Positive Words\")\n",
    "plt.ylabel(\"LM Positive Words\")\n",
    "plt.show()\n",
    "\n",
    "#plotting negative words\n",
    "#selecting array to graph\n",
    "xs  = arr[:,0]\n",
    "ys = arr[:,2]\n",
    "\n",
    "plt.scatter(xs,ys,c=labels,alpha=0.5)\n",
    "\n",
    "#assigning centers\n",
    "centers = model.cluster_centers_\n",
    "\n",
    "center_x = centers[:,2]\n",
    "center_y = centers[:,2]\n",
    "\n",
    "plt.scatter(center_x,center_y,marker='D')\n",
    "plt.xlabel(\"BL Negative Words\")\n",
    "plt.ylabel(\"LM Negative Words\")\n",
    "plt.show()"
   ]
  },
  {
   "cell_type": "markdown",
   "id": "pretty-crawford",
   "metadata": {
    "id": "pretty-crawford"
   },
   "source": [
    "#### t-sne"
   ]
  },
  {
   "cell_type": "code",
   "execution_count": null,
   "id": "western-kinase",
   "metadata": {
    "id": "western-kinase",
    "outputId": "8d3e1e63-d36b-434c-b61c-b5a3fb8cff27",
    "scrolled": true
   },
   "outputs": [
    {
     "data": {
      "image/png": "[encoded data removed]",
      "text/plain": [
       "<Figure size 432x288 with 1 Axes>"
      ]
     },
     "metadata": {
      "needs_background": "light",
      "tags": []
     },
     "output_type": "display_data"
    }
   ],
   "source": [
    "from sklearn.manifold import TSNE\n",
    "\n",
    "#creating variables from dataset\n",
    "samples = df_analysis[['netcnt_BL','netcnt_LM','score_TextBlob','compound_Vader']]\n",
    "ks = df_ws['keyword']\n",
    "\n",
    "#getting clusters\n",
    "for i in range(0,len(ks)):\n",
    "    if ks[i] == 'artificial intelligence':\n",
    "        ks[i] = 0\n",
    "    elif ks[i] == 'machine learning':\n",
    "        ks[i] = 1\n",
    "    elif ks[i] == 'algorithms':\n",
    "        ks[i] = 2\n",
    "    elif ks[i] == 'facial recognition':\n",
    "        ks[i] = 3\n",
    "cls = [i for i in ks]\n",
    "\n",
    "#creating model\n",
    "model=TSNE(learning_rate=100)\n",
    "\n",
    "#transforming the variables into a two-variable dataset\n",
    "transformed = model.fit_transform(samples)\n",
    "xs = transformed[:,0]\n",
    "ys = transformed[:,1]\n",
    "\n",
    "#plotting results\n",
    "plt.scatter(xs,ys,c=cls)\n",
    "plt.show()"
   ]
  },
  {
   "cell_type": "markdown",
   "id": "behind-fetish",
   "metadata": {
    "id": "behind-fetish"
   },
   "source": [
    "## tableau"
   ]
  },
  {
   "cell_type": "code",
   "execution_count": null,
   "id": "inclusive-colors",
   "metadata": {
    "id": "inclusive-colors"
   },
   "outputs": [],
   "source": [
    "df_tableau = df_ws[['keyword','netcnt_BL','netcnt_LM','score_TextBlob','compound_Vader']]\n",
    "\n",
    "df_tableau.to_csv('sentiment for comments.csv')"
   ]
  },
  {
   "cell_type": "markdown",
   "id": "completed-numbers",
   "metadata": {
    "id": "completed-numbers"
   },
   "source": [
    "# Next Steps\n",
    "- add washington post, financial times, social media (rerun to see new results)\n",
    "- see ny times output with combined keywords\n",
    "- LDA analysis\n",
    "- Apply text analytics lab 3\n",
    "- Compare n grams for keywords"
   ]
  },
  {
   "cell_type": "code",
   "execution_count": null,
   "id": "referenced-conservation",
   "metadata": {
    "id": "referenced-conservation"
   },
   "outputs": [],
   "source": []
  },
  {
   "cell_type": "code",
   "execution_count": null,
   "id": "brief-classification",
   "metadata": {
    "id": "brief-classification"
   },
   "outputs": [],
   "source": []
  },
  {
   "cell_type": "code",
   "execution_count": null,
   "id": "faced-baker",
   "metadata": {
    "id": "faced-baker"
   },
   "outputs": [],
   "source": []
  }
 ],
 "metadata": {
  "colab": {
   "name": "Sentiment Analysis Week 2.ipynb",
   "provenance": []
  },
  "kernelspec": {
   "display_name": "Python 3",
   "language": "python",
   "name": "python3"
  },
  "language_info": {
   "codemirror_mode": {
    "name": "ipython",
    "version": 3
   },
   "file_extension": ".py",
   "mimetype": "text/x-python",
   "name": "python",
   "nbconvert_exporter": "python",
   "pygments_lexer": "ipython3",
   "version": "3.8.8"
  }
 },
 "nbformat": 4,
 "nbformat_minor": 5
}
